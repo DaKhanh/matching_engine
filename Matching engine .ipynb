{
 "cells": [
  {
   "cell_type": "code",
   "execution_count": 1,
   "metadata": {},
   "outputs": [
    {
     "name": "stdout",
     "output_type": "stream",
     "text": [
      "  ClientID   Currencies PositionCheck  Rating\n",
      "0        A      USD,SGD             Y       1\n",
      "1        B  USD,SGD,JPY             N       2\n",
      "2        C          SGD             Y       3\n",
      "3        D          USD             Y       4\n",
      "4        E          SGD             N       5\n",
      "  InstrumentID Currency  LotSize\n",
      "0          SIA      SGD      100\n",
      "  InstrumentID Currency  LotSize\n",
      "0          SIA      SGD      100\n"
     ]
    }
   ],
   "source": [
    "# Read Excel files\n",
    "\n",
    "import pandas as pd\n",
    "\n",
    "#  To change\n",
    "folder_path = \"DataSets/example-set/\"\n",
    "\n",
    "df_clients = pd.read_csv(folder_path + 'input_clients.csv')\n",
    "df_instruments = pd.read_csv(folder_path + 'input_instruments.csv')\n",
    "df_orders = pd.read_csv(folder_path + 'input_orders.csv')\n",
    "\n",
    "print(df_clients.to_string())\n",
    "print(df_instruments.to_string())\n",
    "print(df_instruments.to_string())\n",
    "\n",
    "# To read ColumnName\n",
    "# print(df['ColumnName'].to_string())\n",
    "\n"
   ]
  }
 ],
 "metadata": {
  "kernelspec": {
   "display_name": "Python 3",
   "language": "python",
   "name": "python3"
  },
  "language_info": {
   "codemirror_mode": {
    "name": "ipython",
    "version": 3
   },
   "file_extension": ".py",
   "mimetype": "text/x-python",
   "name": "python",
   "nbconvert_exporter": "python",
   "pygments_lexer": "ipython3",
   "version": "3.11.4"
  }
 },
 "nbformat": 4,
 "nbformat_minor": 5
}

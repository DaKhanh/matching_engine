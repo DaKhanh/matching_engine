{
 "cells": [
  {
   "cell_type": "code",
   "execution_count": null,
   "metadata": {},
   "outputs": [],
   "source": [
    "# Read Excel files\n",
    "\n",
    "import pandas as pd\n",
    "\n",
    "#  To change\n",
    "folder_path = \"DataSets/example-set/\"\n",
    "\n",
    "df_clients = pd.read_csv(folder_path + 'input_clients.csv')\n",
    "df_instruments = pd.read_csv(folder_path + 'input_instruments.csv')\n",
    "df_orders = pd.read_csv(folder_path + 'input_orders.csv')\n",
    "\n",
    "print(df_clients.to_string())\n",
    "print(df_instruments.to_string())\n",
    "print(df_instruments.to_string())\n",
    "\n",
    "# To read ColumnName\n",
    "# print(df['ColumnName'].to_string())\n",
    "\n"
   ]
  }
 ],
 "metadata": {
  "language_info": {
   "name": "python"
  }
 },
 "nbformat": 4,
 "nbformat_minor": 5
}
